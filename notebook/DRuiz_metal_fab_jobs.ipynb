{
 "cells": [
  {
   "cell_type": "code",
   "execution_count": 1,
   "id": "d5644e90-b024-4fa5-abe5-d65b0e5b3161",
   "metadata": {},
   "outputs": [],
   "source": [
    "import pandas as pd\n",
    "import matplotlib.pyplot as plt\n",
    "from datetime import datetime as dt\n",
    "import numpy as np\n",
    "import seaborn as sns\n",
    "import re"
   ]
  },
  {
   "cell_type": "code",
   "execution_count": 2,
   "id": "d21a9269-b4d0-41f7-aea6-517425a7b471",
   "metadata": {},
   "outputs": [],
   "source": [
    "jobs_df = pd.read_csv('../data/metal_fab_jobs_master_dr.csv')"
   ]
  },
  {
   "cell_type": "code",
   "execution_count": 3,
   "id": "e9f7c263-b348-46c7-840b-39dc7d66270c",
   "metadata": {},
   "outputs": [],
   "source": [
    "late = jobs_df.loc[jobs_df.completion_status == 'Late']"
   ]
  },
  {
   "cell_type": "code",
   "execution_count": 4,
   "id": "e36c923b-e597-4c6c-b0a7-9bc02dc2adb4",
   "metadata": {},
   "outputs": [],
   "source": [
    "late_describe = late.groupby('process_id')['open_close_days'].describe().sort_values('count', ascending = False).reset_index().head(10)"
   ]
  },
  {
   "cell_type": "code",
   "execution_count": 5,
   "id": "b9be9b92-4633-406d-9601-d7eece9c621b",
   "metadata": {},
   "outputs": [],
   "source": [
    "top_10_late_count = late_describe[['process_id', 'count']]\n",
    "top_10_late_count.columns = ['process_id', 'count_late']"
   ]
  },
  {
   "cell_type": "code",
   "execution_count": 6,
   "id": "42ded922-01f0-4b33-bf2f-1b1552672074",
   "metadata": {},
   "outputs": [],
   "source": [
    "on_time = jobs_df.loc[jobs_df.completion_status != 'Late']"
   ]
  },
  {
   "cell_type": "code",
   "execution_count": 7,
   "id": "b82c57c0-7485-40a1-89d2-dd8afc93be99",
   "metadata": {},
   "outputs": [],
   "source": [
    "top10_data = on_time.loc[jobs_df['process_id'].isin(late_describe['process_id'])]"
   ]
  },
  {
   "cell_type": "code",
   "execution_count": 8,
   "id": "0e13a82d-f9b8-420f-a952-4116ec480aa2",
   "metadata": {},
   "outputs": [],
   "source": [
    "on_time_top10 = top10_data.groupby('process_id')['open_close_days'].describe().sort_values('count', ascending = False).reset_index().head(10)"
   ]
  },
  {
   "cell_type": "code",
   "execution_count": 9,
   "id": "b3144881-b448-4335-b8cc-6f286d56bfe3",
   "metadata": {},
   "outputs": [],
   "source": [
    "on_time_top10_count = on_time_top10[['process_id', 'count']]\n",
    "on_time_top10_count.columns = ['process_id', 'count_total']"
   ]
  },
  {
   "cell_type": "code",
   "execution_count": 10,
   "id": "c29a1264-5f05-4da9-bbdf-4b04b66d55c8",
   "metadata": {},
   "outputs": [
    {
     "data": {
      "text/html": [
       "<div>\n",
       "<style scoped>\n",
       "    .dataframe tbody tr th:only-of-type {\n",
       "        vertical-align: middle;\n",
       "    }\n",
       "\n",
       "    .dataframe tbody tr th {\n",
       "        vertical-align: top;\n",
       "    }\n",
       "\n",
       "    .dataframe thead th {\n",
       "        text-align: right;\n",
       "    }\n",
       "</style>\n",
       "<table border=\"1\" class=\"dataframe\">\n",
       "  <thead>\n",
       "    <tr style=\"text-align: right;\">\n",
       "      <th></th>\n",
       "      <th>process_id</th>\n",
       "      <th>count_late</th>\n",
       "      <th>count_total</th>\n",
       "    </tr>\n",
       "  </thead>\n",
       "  <tbody>\n",
       "    <tr>\n",
       "      <th>0</th>\n",
       "      <td>WRAP</td>\n",
       "      <td>4327.0</td>\n",
       "      <td>9749.0</td>\n",
       "    </tr>\n",
       "    <tr>\n",
       "      <th>1</th>\n",
       "      <td>LASER</td>\n",
       "      <td>3744.0</td>\n",
       "      <td>8776.0</td>\n",
       "    </tr>\n",
       "    <tr>\n",
       "      <th>2</th>\n",
       "      <td>PB</td>\n",
       "      <td>3354.0</td>\n",
       "      <td>6126.0</td>\n",
       "    </tr>\n",
       "    <tr>\n",
       "      <th>3</th>\n",
       "      <td>PCOAT</td>\n",
       "      <td>1906.0</td>\n",
       "      <td>1945.0</td>\n",
       "    </tr>\n",
       "    <tr>\n",
       "      <th>4</th>\n",
       "      <td>WELD</td>\n",
       "      <td>1350.0</td>\n",
       "      <td>982.0</td>\n",
       "    </tr>\n",
       "    <tr>\n",
       "      <th>5</th>\n",
       "      <td>PUNCH</td>\n",
       "      <td>797.0</td>\n",
       "      <td>952.0</td>\n",
       "    </tr>\n",
       "    <tr>\n",
       "      <th>6</th>\n",
       "      <td>XFERR</td>\n",
       "      <td>472.0</td>\n",
       "      <td>238.0</td>\n",
       "    </tr>\n",
       "    <tr>\n",
       "      <th>7</th>\n",
       "      <td>PEM</td>\n",
       "      <td>357.0</td>\n",
       "      <td>313.0</td>\n",
       "    </tr>\n",
       "    <tr>\n",
       "      <th>8</th>\n",
       "      <td>SAW</td>\n",
       "      <td>291.0</td>\n",
       "      <td>199.0</td>\n",
       "    </tr>\n",
       "    <tr>\n",
       "      <th>9</th>\n",
       "      <td>PLATE</td>\n",
       "      <td>257.0</td>\n",
       "      <td>550.0</td>\n",
       "    </tr>\n",
       "  </tbody>\n",
       "</table>\n",
       "</div>"
      ],
      "text/plain": [
       "  process_id  count_late  count_total\n",
       "0       WRAP      4327.0       9749.0\n",
       "1      LASER      3744.0       8776.0\n",
       "2         PB      3354.0       6126.0\n",
       "3      PCOAT      1906.0       1945.0\n",
       "4       WELD      1350.0        982.0\n",
       "5      PUNCH       797.0        952.0\n",
       "6      XFERR       472.0        238.0\n",
       "7        PEM       357.0        313.0\n",
       "8        SAW       291.0        199.0\n",
       "9      PLATE       257.0        550.0"
      ]
     },
     "execution_count": 10,
     "metadata": {},
     "output_type": "execute_result"
    }
   ],
   "source": [
    "top10_job_late_vs_on_time = pd.merge(top_10_late_count, on_time_top10_count, \n",
    "                               left_on = 'process_id', right_on = 'process_id', \n",
    "                               how = 'inner')\n",
    "top10_job_late_vs_on_time"
   ]
  },
  {
   "cell_type": "code",
   "execution_count": 11,
   "id": "ae1ad8fa-49c9-4041-ae00-decbaa9c5ac0",
   "metadata": {},
   "outputs": [
    {
     "data": {
      "image/png": "[encoded data removed]",
      "text/plain": [
       "<Figure size 640x480 with 1 Axes>"
      ]
     },
     "metadata": {},
     "output_type": "display_data"
    }
   ],
   "source": [
    "plt.bar(top10_job_late_vs_on_time.process_id, top10_job_late_vs_on_time.count_late, color=\"#BE202F\")\n",
    "plt.bar(top10_job_late_vs_on_time.process_id, top10_job_late_vs_on_time.count_total, bottom=top10_job_late_vs_on_time.count_late, color='black')\n",
    "plt.ylabel(\"Count\")\n",
    "plt.xlabel(\"Jobs/Tasks (Process ID)\")\n",
    "plt.legend([\"Late\", \"On Time\"])\n",
    "plt.title(\"Top 10 Processes: On Time vs Late by Quoted Due Date\")\n",
    "plt.xticks(rotation=45)\n",
    "plt.savefig('top_10_process_total_vs_late.png', bbox_inches = 'tight', transparent=True)\n",
    "plt.show()"
   ]
  },
  {
   "cell_type": "code",
   "execution_count": 12,
   "id": "59d3e612-9811-478f-b10a-faee1a62566d",
   "metadata": {},
   "outputs": [
    {
     "data": {
      "text/html": [
       "<div>\n",
       "<style scoped>\n",
       "    .dataframe tbody tr th:only-of-type {\n",
       "        vertical-align: middle;\n",
       "    }\n",
       "\n",
       "    .dataframe tbody tr th {\n",
       "        vertical-align: top;\n",
       "    }\n",
       "\n",
       "    .dataframe thead th {\n",
       "        text-align: right;\n",
       "    }\n",
       "</style>\n",
       "<table border=\"1\" class=\"dataframe\">\n",
       "  <thead>\n",
       "    <tr style=\"text-align: right;\">\n",
       "      <th></th>\n",
       "      <th>job_id</th>\n",
       "      <th>short_description</th>\n",
       "      <th>process_id</th>\n",
       "      <th>created_date</th>\n",
       "      <th>production_due_date</th>\n",
       "      <th>completed_date</th>\n",
       "      <th>jmp_part_id</th>\n",
       "      <th>jmp_order_quantity</th>\n",
       "      <th>jmp_production_quantity</th>\n",
       "      <th>open_close_days</th>\n",
       "      <th>due_date_diff</th>\n",
       "      <th>completion_status</th>\n",
       "    </tr>\n",
       "  </thead>\n",
       "  <tbody>\n",
       "    <tr>\n",
       "      <th>0</th>\n",
       "      <td>27563-0004-001</td>\n",
       "      <td>WRAP</td>\n",
       "      <td>WRAP</td>\n",
       "      <td>2023-01-02</td>\n",
       "      <td>2023-02-07</td>\n",
       "      <td>2023-02-21</td>\n",
       "      <td>S039-0304</td>\n",
       "      <td>270.0</td>\n",
       "      <td>270.0</td>\n",
       "      <td>50.0</td>\n",
       "      <td>14.0</td>\n",
       "      <td>Late</td>\n",
       "    </tr>\n",
       "    <tr>\n",
       "      <th>1</th>\n",
       "      <td>27559-0004-001</td>\n",
       "      <td>MANUAL PRESS BRAKE</td>\n",
       "      <td>PB</td>\n",
       "      <td>2023-01-02</td>\n",
       "      <td>2023-01-17</td>\n",
       "      <td>2023-01-23</td>\n",
       "      <td>S039-0304</td>\n",
       "      <td>40.0</td>\n",
       "      <td>40.0</td>\n",
       "      <td>21.0</td>\n",
       "      <td>6.0</td>\n",
       "      <td>Late</td>\n",
       "    </tr>\n",
       "    <tr>\n",
       "      <th>2</th>\n",
       "      <td>27559-0004-001</td>\n",
       "      <td>WRAP</td>\n",
       "      <td>WRAP</td>\n",
       "      <td>2023-01-02</td>\n",
       "      <td>2023-01-17</td>\n",
       "      <td>2023-01-23</td>\n",
       "      <td>S039-0304</td>\n",
       "      <td>40.0</td>\n",
       "      <td>40.0</td>\n",
       "      <td>21.0</td>\n",
       "      <td>6.0</td>\n",
       "      <td>Late</td>\n",
       "    </tr>\n",
       "    <tr>\n",
       "      <th>3</th>\n",
       "      <td>27560-0001-001</td>\n",
       "      <td>LASER CUTTING</td>\n",
       "      <td>LASER</td>\n",
       "      <td>2023-01-02</td>\n",
       "      <td>2023-01-24</td>\n",
       "      <td>2023-01-23</td>\n",
       "      <td>S039-0302</td>\n",
       "      <td>50.0</td>\n",
       "      <td>50.0</td>\n",
       "      <td>21.0</td>\n",
       "      <td>-1.0</td>\n",
       "      <td>On-time</td>\n",
       "    </tr>\n",
       "    <tr>\n",
       "      <th>4</th>\n",
       "      <td>27560-0001-001</td>\n",
       "      <td>MANUAL PRESS BRAKE</td>\n",
       "      <td>PB</td>\n",
       "      <td>2023-01-02</td>\n",
       "      <td>2023-01-24</td>\n",
       "      <td>2023-01-23</td>\n",
       "      <td>S039-0302</td>\n",
       "      <td>50.0</td>\n",
       "      <td>50.0</td>\n",
       "      <td>21.0</td>\n",
       "      <td>-1.0</td>\n",
       "      <td>On-time</td>\n",
       "    </tr>\n",
       "  </tbody>\n",
       "</table>\n",
       "</div>"
      ],
      "text/plain": [
       "           job_id   short_description process_id created_date  \\\n",
       "0  27563-0004-001                WRAP       WRAP   2023-01-02   \n",
       "1  27559-0004-001  MANUAL PRESS BRAKE         PB   2023-01-02   \n",
       "2  27559-0004-001                WRAP       WRAP   2023-01-02   \n",
       "3  27560-0001-001       LASER CUTTING      LASER   2023-01-02   \n",
       "4  27560-0001-001  MANUAL PRESS BRAKE         PB   2023-01-02   \n",
       "\n",
       "  production_due_date completed_date jmp_part_id  jmp_order_quantity  \\\n",
       "0          2023-02-07     2023-02-21   S039-0304               270.0   \n",
       "1          2023-01-17     2023-01-23   S039-0304                40.0   \n",
       "2          2023-01-17     2023-01-23   S039-0304                40.0   \n",
       "3          2023-01-24     2023-01-23   S039-0302                50.0   \n",
       "4          2023-01-24     2023-01-23   S039-0302                50.0   \n",
       "\n",
       "   jmp_production_quantity  open_close_days  due_date_diff completion_status  \n",
       "0                    270.0             50.0           14.0              Late  \n",
       "1                     40.0             21.0            6.0              Late  \n",
       "2                     40.0             21.0            6.0              Late  \n",
       "3                     50.0             21.0           -1.0           On-time  \n",
       "4                     50.0             21.0           -1.0           On-time  "
      ]
     },
     "execution_count": 12,
     "metadata": {},
     "output_type": "execute_result"
    }
   ],
   "source": [
    "jobs_df.head()"
   ]
  },
  {
   "cell_type": "code",
   "execution_count": 13,
   "id": "efc94997-259b-4668-b452-080473a2f2b9",
   "metadata": {},
   "outputs": [],
   "source": [
    "late2 = jobs_df.loc[jobs_df.completion_status == 'Late']"
   ]
  },
  {
   "cell_type": "code",
   "execution_count": 14,
   "id": "9114ac7a-879b-4fac-bb92-c17bdbbac64c",
   "metadata": {},
   "outputs": [],
   "source": [
    "late_describe2 = late2.groupby('jmp_part_id')['open_close_days'].describe().sort_values('count', ascending = False).reset_index().head(10)"
   ]
  },
  {
   "cell_type": "code",
   "execution_count": 15,
   "id": "48871e44-47a8-42d4-b156-ce3b6513278d",
   "metadata": {},
   "outputs": [],
   "source": [
    "top_10_late_count2 = late_describe2[['jmp_part_id', 'count']]\n",
    "top_10_late_count2.columns = ['jmp_part_id', 'count_late']"
   ]
  },
  {
   "cell_type": "code",
   "execution_count": 16,
   "id": "c36538fe-0f68-4fa7-926f-7df68485ec57",
   "metadata": {},
   "outputs": [],
   "source": [
    "on_time2 = jobs_df.loc[jobs_df.completion_status != 'Late']"
   ]
  },
  {
   "cell_type": "code",
   "execution_count": 17,
   "id": "8b51dec7-6a3b-4662-99a3-8756e38d8f8f",
   "metadata": {},
   "outputs": [],
   "source": [
    "top10_data2 = on_time2.loc[jobs_df['jmp_part_id'].isin(late_describe2['jmp_part_id'])]"
   ]
  },
  {
   "cell_type": "code",
   "execution_count": 18,
   "id": "177861e3-7d23-4c1b-9905-225e6c9345de",
   "metadata": {},
   "outputs": [],
   "source": [
    "on_time_top102 = top10_data2.groupby('jmp_part_id')['open_close_days'].describe().sort_values('count', ascending = False).reset_index().head(10)"
   ]
  },
  {
   "cell_type": "code",
   "execution_count": 19,
   "id": "7f041d7c-c3c1-4697-935f-fe671f59f581",
   "metadata": {},
   "outputs": [],
   "source": [
    "on_time_top10_count2 = on_time_top102[['jmp_part_id', 'count']]\n",
    "on_time_top10_count2.columns = ['jmp_part_id', 'count_total']"
   ]
  },
  {
   "cell_type": "code",
   "execution_count": 20,
   "id": "6706e043-82d3-40ce-8328-11dc754babe6",
   "metadata": {},
   "outputs": [
    {
     "data": {
      "text/html": [
       "<div>\n",
       "<style scoped>\n",
       "    .dataframe tbody tr th:only-of-type {\n",
       "        vertical-align: middle;\n",
       "    }\n",
       "\n",
       "    .dataframe tbody tr th {\n",
       "        vertical-align: top;\n",
       "    }\n",
       "\n",
       "    .dataframe thead th {\n",
       "        text-align: right;\n",
       "    }\n",
       "</style>\n",
       "<table border=\"1\" class=\"dataframe\">\n",
       "  <thead>\n",
       "    <tr style=\"text-align: right;\">\n",
       "      <th></th>\n",
       "      <th>jmp_part_id</th>\n",
       "      <th>count_late</th>\n",
       "      <th>count_total</th>\n",
       "    </tr>\n",
       "  </thead>\n",
       "  <tbody>\n",
       "    <tr>\n",
       "      <th>0</th>\n",
       "      <td>S025-0508</td>\n",
       "      <td>590.0</td>\n",
       "      <td>183.0</td>\n",
       "    </tr>\n",
       "    <tr>\n",
       "      <th>1</th>\n",
       "      <td>Y002-0631</td>\n",
       "      <td>380.0</td>\n",
       "      <td>43.0</td>\n",
       "    </tr>\n",
       "    <tr>\n",
       "      <th>2</th>\n",
       "      <td>Y002-0604</td>\n",
       "      <td>350.0</td>\n",
       "      <td>40.0</td>\n",
       "    </tr>\n",
       "    <tr>\n",
       "      <th>3</th>\n",
       "      <td>F022-0009</td>\n",
       "      <td>226.0</td>\n",
       "      <td>0.0</td>\n",
       "    </tr>\n",
       "    <tr>\n",
       "      <th>4</th>\n",
       "      <td>A045-0015</td>\n",
       "      <td>210.0</td>\n",
       "      <td>39.0</td>\n",
       "    </tr>\n",
       "    <tr>\n",
       "      <th>5</th>\n",
       "      <td>B035-0002-KIT</td>\n",
       "      <td>207.0</td>\n",
       "      <td>4.0</td>\n",
       "    </tr>\n",
       "    <tr>\n",
       "      <th>6</th>\n",
       "      <td>B035-0001-KIT</td>\n",
       "      <td>207.0</td>\n",
       "      <td>4.0</td>\n",
       "    </tr>\n",
       "    <tr>\n",
       "      <th>7</th>\n",
       "      <td>Y002-0605</td>\n",
       "      <td>185.0</td>\n",
       "      <td>15.0</td>\n",
       "    </tr>\n",
       "    <tr>\n",
       "      <th>8</th>\n",
       "      <td>F019-0015</td>\n",
       "      <td>117.0</td>\n",
       "      <td>48.0</td>\n",
       "    </tr>\n",
       "    <tr>\n",
       "      <th>9</th>\n",
       "      <td>M030-0317</td>\n",
       "      <td>104.0</td>\n",
       "      <td>124.0</td>\n",
       "    </tr>\n",
       "  </tbody>\n",
       "</table>\n",
       "</div>"
      ],
      "text/plain": [
       "     jmp_part_id  count_late  count_total\n",
       "0      S025-0508       590.0        183.0\n",
       "1      Y002-0631       380.0         43.0\n",
       "2      Y002-0604       350.0         40.0\n",
       "3      F022-0009       226.0          0.0\n",
       "4      A045-0015       210.0         39.0\n",
       "5  B035-0002-KIT       207.0          4.0\n",
       "6  B035-0001-KIT       207.0          4.0\n",
       "7      Y002-0605       185.0         15.0\n",
       "8      F019-0015       117.0         48.0\n",
       "9      M030-0317       104.0        124.0"
      ]
     },
     "execution_count": 20,
     "metadata": {},
     "output_type": "execute_result"
    }
   ],
   "source": [
    "top10_job_late_vs_on_time2 = pd.merge(top_10_late_count2, on_time_top10_count2, \n",
    "                               left_on = 'jmp_part_id', right_on = 'jmp_part_id', \n",
    "                               how = 'inner')\n",
    "top10_job_late_vs_on_time2"
   ]
  },
  {
   "cell_type": "code",
   "execution_count": 21,
   "id": "c11bd128-8704-4b60-8536-8d80284d2bc5",
   "metadata": {},
   "outputs": [
    {
     "data": {
      "image/png": "[encoded data removed]",
      "text/plain": [
       "<Figure size 640x480 with 1 Axes>"
      ]
     },
     "metadata": {},
     "output_type": "display_data"
    }
   ],
   "source": [
    "plt.bar(top10_job_late_vs_on_time2.jmp_part_id, top10_job_late_vs_on_time2.count_late, color=\"#BE202F\")\n",
    "plt.bar(top10_job_late_vs_on_time2.jmp_part_id, top10_job_late_vs_on_time2.count_total, bottom=top10_job_late_vs_on_time2.count_late, color='black')\n",
    "plt.ylabel(\"Count\")\n",
    "plt.xlabel(\"Parts\")\n",
    "plt.legend([\"Late\", \"On Time\"])\n",
    "plt.title(\"Top 10 Parts: On Time vs Late by Quoted Due Date\")\n",
    "plt.xticks(rotation=45, ha = 'right')\n",
    "plt.savefig('top_10_part_total_vs_late.png', bbox_inches = 'tight', transparent=True)\n",
    "plt.show()"
   ]
  },
  {
   "cell_type": "code",
   "execution_count": null,
   "id": "21b114a0-122a-4c19-b35d-c2911d9b30ad",
   "metadata": {},
   "outputs": [],
   "source": []
  }
 ],
 "metadata": {
  "kernelspec": {
   "display_name": "Python 3 (ipykernel)",
   "language": "python",
   "name": "python3"
  },
  "language_info": {
   "codemirror_mode": {
    "name": "ipython",
    "version": 3
   },
   "file_extension": ".py",
   "mimetype": "text/x-python",
   "name": "python",
   "nbconvert_exporter": "python",
   "pygments_lexer": "ipython3",
   "version": "3.12.4"
  }
 },
 "nbformat": 4,
 "nbformat_minor": 5
}
